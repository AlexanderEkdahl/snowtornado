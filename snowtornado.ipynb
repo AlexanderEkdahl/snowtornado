{
 "cells": [
  {
   "cell_type": "markdown",
   "metadata": {
    "deletable": true,
    "editable": true
   },
   "source": [
    "# Snowtornado"
   ]
  },
  {
   "cell_type": "code",
   "execution_count": null,
   "metadata": {
    "collapsed": false,
    "deletable": true,
    "editable": true
   },
   "outputs": [],
   "source": [
    "import pandas as pd\n",
    "import numpy as np\n",
    "from sklearn.tree import DecisionTreeRegressor\n",
    "from sklearn.metrics.pairwise import cosine_similarity\n",
    "from stock_exchange import create_interval_tree\n",
    "from validation import train_test_split, evaluate_model, output_evaluation"
   ]
  },
  {
   "cell_type": "markdown",
   "metadata": {},
   "source": [
    "## Preprocessing\n",
    "\n",
    "- Read products\n",
    "- Read matches\n",
    "- Create interval tree from stock exchange"
   ]
  },
  {
   "cell_type": "code",
   "execution_count": null,
   "metadata": {
    "collapsed": false,
    "deletable": true,
    "editable": true,
    "scrolled": false
   },
   "outputs": [],
   "source": [
    "products = pd.read_csv(\"data/products.csv\", dtype=str, index_col=\"id\")\n",
    "matches = pd.read_csv(\"data/matches.csv\", index_col=False, usecols=[0, 1, 2], names=['original_id', 'replacement_id', 'timestamp'])\n",
    "matches['timestamp'] = pd.to_datetime(matches['timestamp'])\n",
    "stock_exchange = create_interval_tree(\"data/stock_exchange.csv\")\n",
    "products.shape"
   ]
  },
  {
   "cell_type": "markdown",
   "metadata": {},
   "source": [
    "Remove rarely used columns"
   ]
  },
  {
   "cell_type": "code",
   "execution_count": null,
   "metadata": {
    "collapsed": true
   },
   "outputs": [],
   "source": [
    "total = products.isnull().sum().sort_values(ascending=False)\n",
    "percent = (products.isnull().sum()/products.isnull().count()).sort_values(ascending=False)\n",
    "missing_data = pd.concat([total, percent], axis=1, keys=['Total', 'Percent'])\n",
    "products = products.drop((missing_data[missing_data['Percent'] > 0.15]).index,1)"
   ]
  },
  {
   "cell_type": "markdown",
   "metadata": {
    "deletable": true,
    "editable": true
   },
   "source": [
    "Clean data by converting every field to lowercase, stripping, and finally converting it to a category type"
   ]
  },
  {
   "cell_type": "code",
   "execution_count": null,
   "metadata": {
    "collapsed": false,
    "deletable": true,
    "editable": true
   },
   "outputs": [],
   "source": [
    "binary = pd.DataFrame()\n",
    "\n",
    "for column in products.columns:\n",
    "    if not column in [\"name\"]:\n",
    "        binary[column] = products[column].str.lower().str.strip().astype('category')\n",
    "    \n",
    "binary = pd.get_dummies(binary, dummy_na=True)\n",
    "binary = binary.loc[:, (binary != 0).any(axis=0)] # Remove superfluous NaN columns\n",
    "binary.shape"
   ]
  },
  {
   "cell_type": "code",
   "execution_count": null,
   "metadata": {
    "collapsed": false,
    "deletable": true,
    "editable": true
   },
   "outputs": [],
   "source": [
    "matches_train, matches_test = train_test_split(matches, 0.9, stock_exchange)"
   ]
  },
  {
   "cell_type": "markdown",
   "metadata": {
    "deletable": true,
    "editable": true
   },
   "source": [
    "Fill training data with the binary data"
   ]
  },
  {
   "cell_type": "code",
   "execution_count": null,
   "metadata": {
    "collapsed": false,
    "deletable": true,
    "editable": true
   },
   "outputs": [],
   "source": [
    "X_train = np.zeros((matches_train.shape[0], binary.shape[1]), dtype = 'bool')\n",
    "Y_train = np.zeros((matches_train.shape[0], binary.shape[1]), dtype = 'bool')"
   ]
  },
  {
   "cell_type": "code",
   "execution_count": null,
   "metadata": {
    "collapsed": false,
    "deletable": true,
    "editable": true
   },
   "outputs": [],
   "source": [
    "i = 0\n",
    "for _, row in matches_train.iterrows():\n",
    "    original_id = row['original_id']\n",
    "    replacement_id = row['replacement_id']\n",
    "    X_train[i] = binary.loc[[original_id]].values[0]\n",
    "    Y_train[i] = binary.loc[[replacement_id]].values[0]\n",
    "    i += 1"
   ]
  },
  {
   "cell_type": "code",
   "execution_count": null,
   "metadata": {
    "collapsed": false,
    "deletable": true,
    "editable": true
   },
   "outputs": [],
   "source": [
    "def products_on_the_market(timestamp):\n",
    "    return binary.loc[set(map((lambda x: x.data), stock_exchange[timestamp]))]\n",
    "\n",
    "def find_all_matches(model, original_id, timestamp):\n",
    "    prediction = model.predict(binary.loc[[original_id]].values)\n",
    "    similar = cosine_similarity(prediction, products_on_the_market(timestamp))[0]\n",
    "    indices = np.argsort(-similar)\n",
    "    return products_on_the_market(timestamp).index.values[indices].tolist()"
   ]
  },
  {
   "cell_type": "code",
   "execution_count": null,
   "metadata": {
    "collapsed": false,
    "deletable": true,
    "editable": true
   },
   "outputs": [],
   "source": [
    "class OneToOneModel:\n",
    "    def predict(self, values):\n",
    "        return values\n",
    "\n",
    "output_evaluation(OneToOneModel(), matches_test, find_all_matches)"
   ]
  },
  {
   "cell_type": "code",
   "execution_count": null,
   "metadata": {
    "collapsed": false,
    "deletable": true,
    "editable": true
   },
   "outputs": [],
   "source": [
    "from keras.models import Sequential\n",
    "from keras.layers import Dense, Activation, Dropout\n",
    "\n",
    "neurons = X_train.shape[1]\n",
    "\n",
    "model = Sequential([\n",
    "    #Dense(input_dim=neurons, units=neurons, activation='sigmoid'),\n",
    "    Dense(input_dim=neurons, units=neurons, activation='sigmoid'),\n",
    "])\n",
    "model.compile(loss='cosine_proximity', optimizer='adagrad')\n",
    "\n",
    "output_epoch = 100\n",
    "\n",
    "for epoch in range(0, 400, output_epoch):\n",
    "    model.fit(X_train, Y_train, initial_epoch=epoch, epochs=epoch + output_epoch, batch_size=32, verbose=0)\n",
    "    print(\"After epoch: {}\".format(epoch + output_epoch))\n",
    "    output_evaluation(model, matches_test, find_all_matches)"
   ]
  },
  {
   "cell_type": "code",
   "execution_count": null,
   "metadata": {
    "collapsed": true,
    "deletable": true,
    "editable": true
   },
   "outputs": [],
   "source": []
  }
 ],
 "metadata": {
  "kernelspec": {
   "display_name": "Python 3",
   "language": "python",
   "name": "python3"
  },
  "language_info": {
   "codemirror_mode": {
    "name": "ipython",
    "version": 3
   },
   "file_extension": ".py",
   "mimetype": "text/x-python",
   "name": "python",
   "nbconvert_exporter": "python",
   "pygments_lexer": "ipython3",
   "version": "3.6.0"
  }
 },
 "nbformat": 4,
 "nbformat_minor": 2
}
